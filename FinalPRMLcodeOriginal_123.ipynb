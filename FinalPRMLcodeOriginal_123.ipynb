{
 "cells": [
  {
   "cell_type": "markdown",
   "metadata": {
    "colab_type": "text",
    "id": "view-in-github"
   },
   "source": [
    "<a href=\"https://colab.research.google.com/github/vaishnavipatil29/Career-Guidance-ML-Project/blob/master/FinalPRMLcode.ipynb\" target=\"_parent\"><img src=\"https://colab.research.google.com/assets/colab-badge.svg\" alt=\"Open In Colab\"/></a>"
   ]
  },
  {
   "cell_type": "markdown",
   "metadata": {
    "id": "5Ce14OgkfaAc"
   },
   "source": [
    "**Career Guidance System**"
   ]
  },
  {
   "cell_type": "code",
   "execution_count": 1,
   "metadata": {
    "colab": {
     "base_uri": "https://localhost:8080/",
     "height": 316
    },
    "id": "VREYLjokfSaN",
    "outputId": "85f55979-5173-4f3f-abd6-978fb3c60674"
   },
   "outputs": [
    {
     "name": "stdout",
     "output_type": "stream",
     "text": [
      "(7525, 26)\n"
     ]
    },
    {
     "data": {
      "text/html": [
       "<div>\n",
       "<style scoped>\n",
       "    .dataframe tbody tr th:only-of-type {\n",
       "        vertical-align: middle;\n",
       "    }\n",
       "\n",
       "    .dataframe tbody tr th {\n",
       "        vertical-align: top;\n",
       "    }\n",
       "\n",
       "    .dataframe thead th {\n",
       "        text-align: right;\n",
       "    }\n",
       "</style>\n",
       "<table border=\"1\" class=\"dataframe\">\n",
       "  <thead>\n",
       "    <tr style=\"text-align: right;\">\n",
       "      <th></th>\n",
       "      <th>sslc</th>\n",
       "      <th>hsc</th>\n",
       "      <th>cgpa</th>\n",
       "      <th>school_type</th>\n",
       "      <th>no_of_miniprojects</th>\n",
       "      <th>no_of_projects</th>\n",
       "      <th>coresub_skill</th>\n",
       "      <th>aptitude_skill</th>\n",
       "      <th>problemsolving_skill</th>\n",
       "      <th>programming_skill</th>\n",
       "      <th>...</th>\n",
       "      <th>technology_used</th>\n",
       "      <th>sympos_attend</th>\n",
       "      <th>sympos_won</th>\n",
       "      <th>extracurricular</th>\n",
       "      <th>learning_style</th>\n",
       "      <th>college_bench</th>\n",
       "      <th>clg_teachers_know</th>\n",
       "      <th>college_performence</th>\n",
       "      <th>college_skills</th>\n",
       "      <th>ROLE</th>\n",
       "    </tr>\n",
       "  </thead>\n",
       "  <tbody>\n",
       "    <tr>\n",
       "      <th>0</th>\n",
       "      <td>2</td>\n",
       "      <td>3</td>\n",
       "      <td>2</td>\n",
       "      <td>3</td>\n",
       "      <td>1</td>\n",
       "      <td>1</td>\n",
       "      <td>1</td>\n",
       "      <td>1</td>\n",
       "      <td>2</td>\n",
       "      <td>4</td>\n",
       "      <td>...</td>\n",
       "      <td>1</td>\n",
       "      <td>3</td>\n",
       "      <td>1</td>\n",
       "      <td>2</td>\n",
       "      <td>2</td>\n",
       "      <td>4</td>\n",
       "      <td>3</td>\n",
       "      <td>4</td>\n",
       "      <td>5</td>\n",
       "      <td>Technical Support</td>\n",
       "    </tr>\n",
       "    <tr>\n",
       "      <th>1</th>\n",
       "      <td>3</td>\n",
       "      <td>1</td>\n",
       "      <td>2</td>\n",
       "      <td>2</td>\n",
       "      <td>2</td>\n",
       "      <td>1</td>\n",
       "      <td>1</td>\n",
       "      <td>3</td>\n",
       "      <td>2</td>\n",
       "      <td>4</td>\n",
       "      <td>...</td>\n",
       "      <td>2</td>\n",
       "      <td>3</td>\n",
       "      <td>2</td>\n",
       "      <td>3</td>\n",
       "      <td>2</td>\n",
       "      <td>5</td>\n",
       "      <td>3</td>\n",
       "      <td>3</td>\n",
       "      <td>4</td>\n",
       "      <td>Software Developer</td>\n",
       "    </tr>\n",
       "    <tr>\n",
       "      <th>2</th>\n",
       "      <td>3</td>\n",
       "      <td>4</td>\n",
       "      <td>2</td>\n",
       "      <td>2</td>\n",
       "      <td>1</td>\n",
       "      <td>1</td>\n",
       "      <td>1</td>\n",
       "      <td>2</td>\n",
       "      <td>3</td>\n",
       "      <td>3</td>\n",
       "      <td>...</td>\n",
       "      <td>1</td>\n",
       "      <td>4</td>\n",
       "      <td>3</td>\n",
       "      <td>1</td>\n",
       "      <td>4</td>\n",
       "      <td>3</td>\n",
       "      <td>3</td>\n",
       "      <td>3</td>\n",
       "      <td>4</td>\n",
       "      <td>UI/UX Designer</td>\n",
       "    </tr>\n",
       "    <tr>\n",
       "      <th>3</th>\n",
       "      <td>3</td>\n",
       "      <td>4</td>\n",
       "      <td>2</td>\n",
       "      <td>1</td>\n",
       "      <td>1</td>\n",
       "      <td>1</td>\n",
       "      <td>1</td>\n",
       "      <td>1</td>\n",
       "      <td>3</td>\n",
       "      <td>2</td>\n",
       "      <td>...</td>\n",
       "      <td>1</td>\n",
       "      <td>3</td>\n",
       "      <td>2</td>\n",
       "      <td>1</td>\n",
       "      <td>2</td>\n",
       "      <td>1</td>\n",
       "      <td>4</td>\n",
       "      <td>4</td>\n",
       "      <td>3</td>\n",
       "      <td>Technical Support</td>\n",
       "    </tr>\n",
       "    <tr>\n",
       "      <th>4</th>\n",
       "      <td>2</td>\n",
       "      <td>3</td>\n",
       "      <td>2</td>\n",
       "      <td>4</td>\n",
       "      <td>1</td>\n",
       "      <td>1</td>\n",
       "      <td>1</td>\n",
       "      <td>4</td>\n",
       "      <td>3</td>\n",
       "      <td>3</td>\n",
       "      <td>...</td>\n",
       "      <td>1</td>\n",
       "      <td>2</td>\n",
       "      <td>1</td>\n",
       "      <td>3</td>\n",
       "      <td>1</td>\n",
       "      <td>5</td>\n",
       "      <td>4</td>\n",
       "      <td>3</td>\n",
       "      <td>1</td>\n",
       "      <td>Data Analyst</td>\n",
       "    </tr>\n",
       "  </tbody>\n",
       "</table>\n",
       "<p>5 rows × 26 columns</p>\n",
       "</div>"
      ],
      "text/plain": [
       "   sslc  hsc  cgpa  school_type  no_of_miniprojects  no_of_projects  \\\n",
       "0     2    3     2            3                   1               1   \n",
       "1     3    1     2            2                   2               1   \n",
       "2     3    4     2            2                   1               1   \n",
       "3     3    4     2            1                   1               1   \n",
       "4     2    3     2            4                   1               1   \n",
       "\n",
       "   coresub_skill  aptitude_skill  problemsolving_skill  programming_skill  \\\n",
       "0              1               1                     2                  4   \n",
       "1              1               3                     2                  4   \n",
       "2              1               2                     3                  3   \n",
       "3              1               1                     3                  2   \n",
       "4              1               4                     3                  3   \n",
       "\n",
       "   ...  technology_used  sympos_attend  sympos_won  extracurricular  \\\n",
       "0  ...                1              3           1                2   \n",
       "1  ...                2              3           2                3   \n",
       "2  ...                1              4           3                1   \n",
       "3  ...                1              3           2                1   \n",
       "4  ...                1              2           1                3   \n",
       "\n",
       "   learning_style  college_bench  clg_teachers_know  college_performence   \\\n",
       "0               2              4                  3                     4   \n",
       "1               2              5                  3                     3   \n",
       "2               4              3                  3                     3   \n",
       "3               2              1                  4                     4   \n",
       "4               1              5                  4                     3   \n",
       "\n",
       "   college_skills                ROLE  \n",
       "0               5   Technical Support  \n",
       "1               4  Software Developer  \n",
       "2               4      UI/UX Designer  \n",
       "3               3   Technical Support  \n",
       "4               1        Data Analyst  \n",
       "\n",
       "[5 rows x 26 columns]"
      ]
     },
     "execution_count": 1,
     "metadata": {},
     "output_type": "execute_result"
    }
   ],
   "source": [
    "#importing data\n",
    "import numpy as np\n",
    "import pandas as pd\n",
    "\n",
    "dataset = pd.read_csv(\"career_compute_dataset.csv\")\n",
    "print(np.shape(dataset))\n",
    "dataset.head()"
   ]
  },
  {
   "cell_type": "code",
   "execution_count": 2,
   "metadata": {
    "colab": {
     "base_uri": "https://localhost:8080/"
    },
    "id": "7c1CCk-EhQic",
    "outputId": "8f7d0bb9-49bd-4825-c1f0-58b142a5d18f"
   },
   "outputs": [
    {
     "name": "stdout",
     "output_type": "stream",
     "text": [
      "                 ROLE  Associated Number\n",
      "0   Technical Support                  4\n",
      "1  Software Developer                  2\n",
      "2      UI/UX Designer                  6\n",
      "3        Data Analyst                  1\n",
      "4    Technical Writer                  5\n",
      "5       Web Developer                  7\n",
      "6     Software Tester                  3\n",
      "7    Business Analyst                  0\n"
     ]
    }
   ],
   "source": [
    "data = dataset.iloc[:49,:-1].values\n",
    "label = dataset.iloc[:49,-1]\n",
    "#-------------------------------Label Encoding--------------------------#\n",
    "from sklearn.preprocessing import LabelEncoder, OneHotEncoder\n",
    "labelencoder = LabelEncoder()\n",
    "df = dataset\n",
    "label = df.iloc[:49,-1]\n",
    "original=label.unique() \n",
    "label=label.values\n",
    "label2 = labelencoder.fit_transform(label)\n",
    "y=pd.DataFrame(label2,columns=[\"ROLE\"])\n",
    "numeric=y[\"ROLE\"].unique() \n",
    "y1 = pd.DataFrame({'ROLE':original, 'Associated Number':numeric})\n",
    "print(y1)\n",
    "from sklearn.preprocessing import LabelEncoder, OneHotEncoder\n",
    "labelencoder = LabelEncoder()\n",
    "label = labelencoder.fit_transform(label)\n",
    "y=pd.DataFrame(label,columns=[\"role\"])\n",
    "X = pd.DataFrame(data,columns=['sslc','hsc','cgpa','school_type','no_of_miniprojects','no_of_projects',\n",
    "                                'coresub_skill','aptitude_skill','problemsolving_skill','programming_skill','abstractthink_skill',\n",
    "                                'design_skill','first_computer','first_program','lab_programs','ds_coding','technology_used',\n",
    "                                'sympos_attend','sympos_won','extracurricular','learning_style','college_bench','clg_teachers_know','college_performence','college_skills'])"
   ]
  },
  {
   "cell_type": "markdown",
   "metadata": {
    "id": "YZzTh9Yrf_x6"
   },
   "source": [
    "Thus, we have categorical data and categorical target.\n",
    "\n",
    "For  Feature Selection : \n",
    "\n",
    "We propose to use: \n",
    "\n",
    "1. Chi-Squared Statistic.\n",
    "2. Mutual Information Statistic.\n",
    "\n"
   ]
  },
  {
   "cell_type": "code",
   "execution_count": 3,
   "metadata": {
    "id": "EkszPWfkf_dz"
   },
   "outputs": [
    {
     "name": "stderr",
     "output_type": "stream",
     "text": [
      "Matplotlib is building the font cache; this may take a moment.\n"
     ]
    }
   ],
   "source": [
    "\n",
    "from pandas import read_csv\n",
    "from sklearn.model_selection import train_test_split\n",
    "from sklearn.preprocessing import LabelEncoder\n",
    "from sklearn.preprocessing import OrdinalEncoder\n",
    "from sklearn.feature_selection import SelectKBest\n",
    "from sklearn.feature_selection import chi2\n",
    "from matplotlib import pyplot"
   ]
  },
  {
   "cell_type": "code",
   "execution_count": 4,
   "metadata": {
    "colab": {
     "base_uri": "https://localhost:8080/",
     "height": 1000
    },
    "id": "An3KlNcZglav",
    "outputId": "be6e46b5-63a0-44d1-a8a3-e8be21b8a621"
   },
   "outputs": [
    {
     "name": "stdout",
     "output_type": "stream",
     "text": [
      "Feature 0: 2.101772\n",
      "Feature 1: 0.955491\n",
      "Feature 2: 1.599306\n",
      "Feature 3: 1.769333\n",
      "Feature 4: 3.316358\n",
      "Feature 5: 1.125758\n",
      "Feature 6: 1.299609\n",
      "Feature 7: 6.225678\n",
      "Feature 8: 1.013542\n",
      "Feature 9: 1.529464\n",
      "Feature 10: 6.433067\n",
      "Feature 11: 3.607745\n",
      "Feature 12: 0.611667\n",
      "Feature 13: 1.566959\n",
      "Feature 14: 0.907095\n",
      "Feature 15: 4.838542\n",
      "Feature 16: 1.000189\n",
      "Feature 17: 2.309167\n",
      "Feature 18: 2.526337\n",
      "Feature 19: 3.994762\n",
      "Feature 20: 3.109337\n",
      "Feature 21: 0.519778\n",
      "Feature 22: 0.356387\n",
      "Feature 23: 0.116054\n",
      "Feature 24: 5.677100\n"
     ]
    },
    {
     "data": {
      "image/png": "[encoded data removed]",
      "text/plain": [
       "<Figure size 640x480 with 1 Axes>"
      ]
     },
     "metadata": {},
     "output_type": "display_data"
    },
    {
     "name": "stdout",
     "output_type": "stream",
     "text": [
      " The number of important features with threshold as 1 :19 \n",
      "Feature 0: 2.647197\n",
      "Feature 1: 0.606646\n",
      "Feature 2: 0.987726\n",
      "Feature 3: 3.816667\n",
      "Feature 4: 2.366213\n",
      "Feature 5: 1.146154\n",
      "Feature 6: 1.424897\n",
      "Feature 7: 4.506504\n",
      "Feature 8: 1.653086\n",
      "Feature 9: 1.386111\n",
      "Feature 10: 3.688753\n",
      "Feature 11: 2.377637\n",
      "Feature 12: 1.653040\n",
      "Feature 13: 1.869637\n",
      "Feature 14: 0.573077\n",
      "Feature 15: 2.759781\n",
      "Feature 16: 1.664387\n",
      "Feature 17: 2.188087\n",
      "Feature 18: 3.249751\n",
      "Feature 19: 4.095988\n",
      "Feature 20: 1.730137\n",
      "Feature 21: 0.844985\n",
      "Feature 22: 0.326944\n",
      "Feature 23: 0.498964\n",
      "Feature 24: 7.232533\n"
     ]
    },
    {
     "data": {
      "image/png": "[encoded data removed]",
      "text/plain": [
       "<Figure size 640x480 with 1 Axes>"
      ]
     },
     "metadata": {},
     "output_type": "display_data"
    },
    {
     "name": "stdout",
     "output_type": "stream",
     "text": [
      " The number of important features with threshold as 1 :19 \n"
     ]
    }
   ],
   "source": [
    "# feature selection\n",
    "# example of chi squared feature selection for categorical data\n",
    "def select_features(X_train, y_train, X_test):\n",
    "\tfs = SelectKBest(score_func=chi2, k='all')\n",
    "\tfs.fit(X_train, y_train)\n",
    "\tX_train_fs = fs.transform(X_train)\n",
    "\tX_test_fs = fs.transform(X_test)\n",
    "\treturn X_train_fs, X_test_fs, fs\n",
    "\n",
    "# split into train and test sets\n",
    "X_train, X_test, y_train, y_test = train_test_split(X, y, test_size=0.2, random_state=20)#Decision tree\n",
    "X_train2,X_test2,y_train2,y_test2=train_test_split(X,y,test_size=0.3,random_state=10)#XGBoost\n",
    "X_train6,X_test6,y_train6,y_test6=train_test_split(X,y,test_size=0.2,random_state=15)#SVM\n",
    "\n",
    "X_train1, X_test1, fs1 = select_features(X_train, y_train, X_test)\n",
    "X_train3, X_test3, fs3 = select_features(X_train2, y_train2, X_test2)\n",
    "X_train5, X_test5, fs5 = select_features(X_train2, y_train2, X_test2)\n",
    "\n",
    "# what are scores for the features\n",
    "for i in range(len(fs1.scores_)):\n",
    "\tprint('Feature %d: %f' % (i, fs1.scores_[i]))\n",
    "# plot the scores\n",
    "pyplot.bar([i for i in range(len(fs1.scores_))], fs1.scores_)\n",
    "pyplot.show()\n",
    "\n",
    "count = 0\n",
    "for i in fs1.scores_ : \n",
    "    if i > 1 : \n",
    "        count = count + 1\n",
    "k1=count\n",
    "print(\" The number of important features with threshold as 1 :{} \".format(k1))\n",
    "\n",
    "\n",
    "for i in range(len(fs3.scores_)):\n",
    "\tprint('Feature %d: %f' % (i, fs3.scores_[i]))\n",
    "# plot the scores\n",
    "pyplot.bar([i for i in range(len(fs3.scores_))], fs3.scores_)\n",
    "pyplot.show()\n",
    "\n",
    "count = 0\n",
    "for i in fs3.scores_ : \n",
    "    if i > 1 : \n",
    "        count = count + 1\n",
    "k3=count\n",
    "\n",
    "print(\" The number of important features with threshold as 1 :{} \".format(k3))"
   ]
  },
  {
   "cell_type": "code",
   "execution_count": 5,
   "metadata": {
    "colab": {
     "base_uri": "https://localhost:8080/",
     "height": 702
    },
    "id": "wqvizUr3R_-d",
    "outputId": "8bc5bb23-d53c-46ad-aa27-1acee0c2e2cb"
   },
   "outputs": [
    {
     "name": "stdout",
     "output_type": "stream",
     "text": [
      "Feature 0: 2.647197\n",
      "Feature 1: 0.606646\n",
      "Feature 2: 0.987726\n",
      "Feature 3: 3.816667\n",
      "Feature 4: 2.366213\n",
      "Feature 5: 1.146154\n",
      "Feature 6: 1.424897\n",
      "Feature 7: 4.506504\n",
      "Feature 8: 1.653086\n",
      "Feature 9: 1.386111\n",
      "Feature 10: 3.688753\n",
      "Feature 11: 2.377637\n",
      "Feature 12: 1.653040\n",
      "Feature 13: 1.869637\n",
      "Feature 14: 0.573077\n",
      "Feature 15: 2.759781\n",
      "Feature 16: 1.664387\n",
      "Feature 17: 2.188087\n",
      "Feature 18: 3.249751\n",
      "Feature 19: 4.095988\n",
      "Feature 20: 1.730137\n",
      "Feature 21: 0.844985\n",
      "Feature 22: 0.326944\n",
      "Feature 23: 0.498964\n",
      "Feature 24: 7.232533\n"
     ]
    },
    {
     "data": {
      "image/png": "[encoded data removed]",
      "text/plain": [
       "<Figure size 640x480 with 1 Axes>"
      ]
     },
     "metadata": {},
     "output_type": "display_data"
    },
    {
     "name": "stdout",
     "output_type": "stream",
     "text": [
      " The number of important features with threshold as 1 : 19\n"
     ]
    }
   ],
   "source": [
    "#X_train4, X_test4, fs = select_features(X_train2, y_train2, X_test2)\n",
    "for i in range(len(fs5.scores_)):\n",
    "\tprint('Feature %d: %f' % (i, fs5.scores_[i]))\n",
    "# plot the scores\n",
    "pyplot.bar([i for i in range(len(fs5.scores_))], fs5.scores_)\n",
    "pyplot.show()\n",
    "\n",
    "count = 0\n",
    "for i in fs5.scores_ : \n",
    "    if i > 1 : \n",
    "        count = count + 1\n",
    "k5=count\n",
    "\n",
    "print(\" The number of important features with threshold as 1 : {}\" .format(k5))"
   ]
  },
  {
   "cell_type": "markdown",
   "metadata": {
    "id": "yQK5DajNzrYD"
   },
   "source": [
    "A bar chart of the feature importance scores for each input feature is created.\n",
    "\n"
   ]
  },
  {
   "cell_type": "markdown",
   "metadata": {
    "id": "p-Pll3-10ASq"
   },
   "source": [
    "So, from above plot we remove the features with lower importance scores (<1.5).\n",
    "\n",
    "Hence features 2,5,8,9,14,16,21,22,23 are not considered,\n",
    "\n",
    "We could set k=16 i.e (25-9)  When configuring the SelectKBest to select these top 16 features"
   ]
  },
  {
   "cell_type": "code",
   "execution_count": 6,
   "metadata": {},
   "outputs": [],
   "source": [
    "#Support Vector machine\n",
    "from sklearn.metrics import confusion_matrix,accuracy_score\n",
    "def svm(X_train,y_train,X_test,y_test):\n",
    "  from sklearn.svm import SVC\n",
    "  from pandas import read_csv\n",
    "  from sklearn.model_selection import train_test_split\n",
    "\n",
    "  # import metrics to compute accuracy\n",
    "  from sklearn.metrics import accuracy_score\n",
    "  svc=SVC() \n",
    "  # fit classifier to training set\n",
    "  svc.fit(X_train,y_train)\n",
    "  # make predictions on test set\n",
    "  y_pred=svc.predict(X_test)\n",
    "  # compute and print accuracy score\n",
    "  print('Model accuracy score with default hyperparameters: {0:0.4f}'. format(accuracy_score(y_test, y_pred)*100))\n",
    "  return accuracy_score(y_test, y_pred)*100\n",
    "\n",
    "def Dec_tree(X_train,y_train,X_test,y_test):\n",
    "  from sklearn import tree\n",
    "  clf = tree.DecisionTreeClassifier()\n",
    "  clf = clf.fit(X_train, y_train)\n",
    "  # Prediction\n",
    "  y_pred = clf.predict(X_test)\n",
    "  y_test_arr=y_test['role']\n",
    "  from sklearn.metrics import confusion_matrix,accuracy_score\n",
    "  accuracy = accuracy_score(y_test,y_pred)\n",
    "  print('Model accuracy score with Decision Tree', accuracy_score(y_test, y_pred)*100)\n",
    "  return accuracy*100,clf\n",
    "\n",
    "def xgboost(X_train,y_train,X_test,y_test,clf):\n",
    "  #X_train,X_test,y_train,y_test=train_test_split(X1,y,test_size=0.3,random_state=10)\n",
    "  shape = X_train.shape\n",
    "  X_train=pd.to_numeric(X_train.values.flatten())\n",
    "  X_train=X_train.reshape(shape)\n",
    "  from xgboost.sklearn import XGBClassifier\n",
    "  model = XGBClassifier()\n",
    "  model.fit(X_train, y_train)\n",
    "  xgb_y_pred  = clf.predict(X_test)\n",
    "  xgb_accuracy = accuracy_score(y_test,xgb_y_pred)\n",
    "  print(\"accuracy=\",xgb_accuracy*100)\n",
    "  return xgb_accuracy*100"
   ]
  },
  {
   "cell_type": "code",
   "execution_count": 7,
   "metadata": {
    "colab": {
     "base_uri": "https://localhost:8080/"
    },
    "id": "IcSMQuHA3rzW",
    "outputId": "738d5820-976e-43cb-ed68-288e32affd8b"
   },
   "outputs": [
    {
     "name": "stdout",
     "output_type": "stream",
     "text": [
      "Without feature Selection : \n",
      "Model accuracy score with default hyperparameters: 60.0000\n",
      "With feature Selection : \n",
      "Model accuracy score with default hyperparameters: 70.0000\n",
      "Without feature Selection : \n"
     ]
    },
    {
     "name": "stderr",
     "output_type": "stream",
     "text": [
      "D:\\anaconda\\envs\\project\\lib\\site-packages\\sklearn\\utils\\validation.py:1183: DataConversionWarning: A column-vector y was passed when a 1d array was expected. Please change the shape of y to (n_samples, ), for example using ravel().\n",
      "  y = column_or_1d(y, warn=True)\n",
      "D:\\anaconda\\envs\\project\\lib\\site-packages\\sklearn\\utils\\validation.py:1183: DataConversionWarning: A column-vector y was passed when a 1d array was expected. Please change the shape of y to (n_samples, ), for example using ravel().\n",
      "  y = column_or_1d(y, warn=True)\n"
     ]
    },
    {
     "name": "stdout",
     "output_type": "stream",
     "text": [
      "Model accuracy score with Decision Tree 10.0\n",
      "With feature Selection : \n",
      "Model accuracy score with Decision Tree 40.0\n",
      " \n",
      "Boosting the Decision Tree  \n"
     ]
    },
    {
     "name": "stderr",
     "output_type": "stream",
     "text": [
      "D:\\anaconda\\envs\\project\\lib\\site-packages\\sklearn\\preprocessing\\_label.py:97: DataConversionWarning: A column-vector y was passed when a 1d array was expected. Please change the shape of y to (n_samples, ), for example using ravel().\n",
      "  y = column_or_1d(y, warn=True)\n",
      "D:\\anaconda\\envs\\project\\lib\\site-packages\\sklearn\\preprocessing\\_label.py:132: DataConversionWarning: A column-vector y was passed when a 1d array was expected. Please change the shape of y to (n_samples, ), for example using ravel().\n",
      "  y = column_or_1d(y, dtype=self.classes_.dtype, warn=True)\n"
     ]
    },
    {
     "name": "stdout",
     "output_type": "stream",
     "text": [
      "accuracy= 93.33333333333333\n"
     ]
    }
   ],
   "source": [
    "def select_features(X_train, y_train, X_test):\n",
    "\tfs = SelectKBest(score_func=chi2,k=k1)\n",
    "\tfs.fit(X_train, y_train)\n",
    "\tX_train_fs = fs.transform(X_train)\n",
    "\tX_test_fs = fs.transform(X_test)\n",
    "\treturn X_train_fs, X_test_fs, fs\n",
    "\n",
    "def select_features2(X_train, y_train, X_test):\n",
    "\tfs = SelectKBest(score_func=chi2,k=k3)\n",
    "\tfs.fit(X_train, y_train)\n",
    "\tX_train_fs = fs.transform(X_train)\n",
    "\tX_test_fs = fs.transform(X_test)\n",
    "\treturn X_train_fs, X_test_fs, fs\n",
    "\n",
    "def select_features3(X_train, y_train, X_test):\n",
    "\tfs = SelectKBest(score_func=chi2,k=k5)\n",
    "\tfs.fit(X_train, y_train)\n",
    "\tX_train_fs = fs.transform(X_train)\n",
    "\tX_test_fs = fs.transform(X_test)\n",
    "\treturn X_train_fs, X_test_fs, fs\n",
    "\n",
    "\n",
    "X_train1, X_test1, fs = select_features(X_train, y_train, X_test)\n",
    "X_train3, X_test3, fs = select_features2(X_train2, y_train2, X_test2)\n",
    "X_train5, X_test5, fs = select_features3(X_train6, y_train6, X_test6)\n",
    "\n",
    " \n",
    "#---------------SVM------------------#\n",
    "#\n",
    "print(\"Without feature Selection : \")\n",
    "acc = svm(X_train6,y_train6,X_test6,y_test6)\n",
    "\n",
    "print(\"With feature Selection : \")\n",
    "acc1 = svm(X_train5,y_train6,X_test5,y_test6)\n",
    "\n",
    "#-------------Decision Tree-----------------#\n",
    "print(\"Without feature Selection : \")\n",
    "acc1,clf1 = Dec_tree(X_train1,y_train,X_test1,y_test)\n",
    "\n",
    "\n",
    "print(\"With feature Selection : \")\n",
    "acc,clf = Dec_tree(X_train,y_train,X_test,y_test)\n",
    "\n",
    "print(' ')\n",
    "\n",
    "#-------------XGBoost-----------------#\n",
    "print(\"Boosting the Decision Tree  \")\n",
    "acc = xgboost(X_train2,y_train2,X_test2,y_test2,clf)\n"
   ]
  },
  {
   "cell_type": "markdown",
   "metadata": {
    "id": "w_GJF49U0ABF"
   },
   "source": [
    "Mutual Info Classification"
   ]
  },
  {
   "cell_type": "code",
   "execution_count": 8,
   "metadata": {
    "colab": {
     "base_uri": "https://localhost:8080/",
     "height": 1000
    },
    "id": "xtsFDLnYiWNP",
    "outputId": "a58dfc84-955e-4e5f-fcf9-b25a35747fe1"
   },
   "outputs": [
    {
     "name": "stderr",
     "output_type": "stream",
     "text": [
      "D:\\anaconda\\envs\\project\\lib\\site-packages\\sklearn\\utils\\validation.py:1183: DataConversionWarning: A column-vector y was passed when a 1d array was expected. Please change the shape of y to (n_samples, ), for example using ravel().\n",
      "  y = column_or_1d(y, warn=True)\n",
      "D:\\anaconda\\envs\\project\\lib\\site-packages\\sklearn\\utils\\validation.py:1183: DataConversionWarning: A column-vector y was passed when a 1d array was expected. Please change the shape of y to (n_samples, ), for example using ravel().\n",
      "  y = column_or_1d(y, warn=True)\n",
      "D:\\anaconda\\envs\\project\\lib\\site-packages\\sklearn\\utils\\validation.py:1183: DataConversionWarning: A column-vector y was passed when a 1d array was expected. Please change the shape of y to (n_samples, ), for example using ravel().\n",
      "  y = column_or_1d(y, warn=True)\n"
     ]
    },
    {
     "name": "stdout",
     "output_type": "stream",
     "text": [
      "Feature 0: 1.939425\n",
      "Feature 1: 0.621032\n",
      "Feature 2: 1.190205\n",
      "Feature 3: 2.361067\n",
      "Feature 4: 2.723434\n",
      "Feature 5: 1.019886\n",
      "Feature 6: 1.630621\n",
      "Feature 7: 5.962755\n",
      "Feature 8: 0.948673\n",
      "Feature 9: 1.391667\n",
      "Feature 10: 3.995109\n",
      "Feature 11: 3.001412\n",
      "Feature 12: 1.301361\n",
      "Feature 13: 1.730517\n",
      "Feature 14: 0.916034\n",
      "Feature 15: 2.627847\n",
      "Feature 16: 0.703328\n",
      "Feature 17: 2.405423\n",
      "Feature 18: 3.379566\n",
      "Feature 19: 3.567291\n",
      "Feature 20: 2.512279\n",
      "Feature 21: 1.074299\n",
      "Feature 22: 0.271954\n",
      "Feature 23: 0.452889\n",
      "Feature 24: 8.890845\n"
     ]
    },
    {
     "data": {
      "image/png": "[encoded data removed]",
      "text/plain": [
       "<Figure size 640x480 with 1 Axes>"
      ]
     },
     "metadata": {},
     "output_type": "display_data"
    },
    {
     "name": "stdout",
     "output_type": "stream",
     "text": [
      " The number of important features with threshold as 0.2 :25 \n",
      "Feature 0: 0.000000\n",
      "Feature 1: 0.006976\n",
      "Feature 2: 0.253500\n",
      "Feature 3: 0.000000\n",
      "Feature 4: 0.296551\n",
      "Feature 5: 1.045633\n",
      "Feature 6: 0.583370\n",
      "Feature 7: 0.276001\n",
      "Feature 8: 0.329052\n",
      "Feature 9: 0.389692\n",
      "Feature 10: 0.657097\n",
      "Feature 11: 0.000000\n",
      "Feature 12: 0.339583\n",
      "Feature 13: 0.233102\n",
      "Feature 14: 1.169155\n",
      "Feature 15: 0.066041\n",
      "Feature 16: 1.341164\n",
      "Feature 17: 0.811930\n",
      "Feature 18: 0.063601\n",
      "Feature 19: 0.090520\n",
      "Feature 20: 0.380892\n",
      "Feature 21: 0.019379\n",
      "Feature 22: 0.137885\n",
      "Feature 23: 0.221531\n",
      "Feature 24: 0.200196\n"
     ]
    },
    {
     "data": {
      "image/png": "[encoded data removed]",
      "text/plain": [
       "<Figure size 640x480 with 1 Axes>"
      ]
     },
     "metadata": {},
     "output_type": "display_data"
    },
    {
     "name": "stdout",
     "output_type": "stream",
     "text": [
      " The number of important features with threshold as 0.2 :16 \n",
      "Feature 0: 0.045303\n",
      "Feature 1: 0.028527\n",
      "Feature 2: 0.153727\n",
      "Feature 3: 0.000000\n",
      "Feature 4: 0.456412\n",
      "Feature 5: 1.020989\n",
      "Feature 6: 0.368373\n",
      "Feature 7: 0.204462\n",
      "Feature 8: 0.040901\n",
      "Feature 9: 0.563348\n",
      "Feature 10: 0.355813\n",
      "Feature 11: 0.152883\n",
      "Feature 12: 0.343632\n",
      "Feature 13: 0.350492\n",
      "Feature 14: 0.916883\n",
      "Feature 15: 0.243529\n",
      "Feature 16: 1.944094\n",
      "Feature 17: 0.773603\n",
      "Feature 18: 0.000000\n",
      "Feature 19: 0.194345\n",
      "Feature 20: 0.349142\n",
      "Feature 21: 0.340178\n",
      "Feature 22: 0.256908\n",
      "Feature 23: 0.469265\n",
      "Feature 24: 0.043517\n"
     ]
    },
    {
     "data": {
      "image/png": "[encoded data removed]",
      "text/plain": [
       "<Figure size 640x480 with 1 Axes>"
      ]
     },
     "metadata": {},
     "output_type": "display_data"
    },
    {
     "name": "stdout",
     "output_type": "stream",
     "text": [
      " The number of important features with threshold as 0.2 : 16\n"
     ]
    }
   ],
   "source": [
    "# example of mutual information feature selection for categorical data\n",
    "from sklearn.feature_selection import mutual_info_classif\n",
    "\n",
    "def select_features(X_train, y_train, X_test):\n",
    "\tfs = SelectKBest(score_func=mutual_info_classif, k='all')\n",
    "\tfs.fit(X_train, y_train)\n",
    "\tX_train_fs = fs.transform(X_train)\n",
    "\tX_test_fs = fs.transform(X_test)\n",
    "\treturn X_train_fs, X_test_fs, fs\n",
    "\n",
    "# split into train and test sets\n",
    "X_train, X_test, y_train, y_test = train_test_split(X, y, test_size=0.2, random_state=20)#Decision tree\n",
    "X_train2,X_test2,y_train2,y_test2=train_test_split(X,y,test_size=0.3,random_state=10)#XGBoost\n",
    "X_train6,X_test6,y_train6,y_test6=train_test_split(X,y,test_size=0.2,random_state=15)#SVM\n",
    "\n",
    "X_train1, X_test1, fs1 = select_features(X_train, y_train, X_test)\n",
    "X_train3, X_test3, fs3 = select_features(X_train2, y_train2, X_test2)\n",
    "X_train5, X_test5, fs5 = select_features(X_train2, y_train2, X_test2)\n",
    "\n",
    "# what are scores for the features\n",
    "for i in range(len(fs1.scores_)):\n",
    "\tprint('Feature %d: %f' % (i, fs.scores_[i]))\n",
    "# plot the scores\n",
    "pyplot.bar([i for i in range(len(fs.scores_))], fs.scores_)\n",
    "pyplot.show()\n",
    "\n",
    "count = 0\n",
    "for i in fs.scores_ : \n",
    "    if i > 0.2 : \n",
    "        count = count + 1\n",
    "k1=count\n",
    "print(\" The number of important features with threshold as 0.2 :{} \".format(k1))\n",
    "\n",
    "\n",
    "for i in range(len(fs3.scores_)):\n",
    "\tprint('Feature %d: %f' % (i, fs3.scores_[i]))\n",
    "# plot the scores\n",
    "pyplot.bar([i for i in range(len(fs3.scores_))], fs3.scores_)\n",
    "pyplot.show()\n",
    "\n",
    "count = 0\n",
    "for i in fs3.scores_ : \n",
    "    if i > 0.2 : \n",
    "        count = count + 1\n",
    "k3=count\n",
    "\n",
    "print(\" The number of important features with threshold as 0.2 :{} \".format(k3))\n",
    "\n",
    "#X_train4, X_test4, fs = select_features(X_train2, y_train2, X_test2)\n",
    "for i in range(len(fs5.scores_)):\n",
    "\tprint('Feature %d: %f' % (i, fs5.scores_[i]))\n",
    "# plot the scores\n",
    "pyplot.bar([i for i in range(len(fs5.scores_))], fs5.scores_)\n",
    "pyplot.show()\n",
    "\n",
    "count = 0\n",
    "for i in fs5.scores_ : \n",
    "    if i > 0.2 : \n",
    "        count = count + 1\n",
    "k5=count\n",
    "\n",
    "print(\" The number of important features with threshold as 0.2 : {}\" .format(k5))"
   ]
  },
  {
   "cell_type": "code",
   "execution_count": 9,
   "metadata": {
    "colab": {
     "base_uri": "https://localhost:8080/"
    },
    "id": "caJ31ANmiROR",
    "outputId": "7a583c9d-ffaf-4707-f69a-8488cd84979a"
   },
   "outputs": [
    {
     "name": "stderr",
     "output_type": "stream",
     "text": [
      "D:\\anaconda\\envs\\project\\lib\\site-packages\\sklearn\\utils\\validation.py:1183: DataConversionWarning: A column-vector y was passed when a 1d array was expected. Please change the shape of y to (n_samples, ), for example using ravel().\n",
      "  y = column_or_1d(y, warn=True)\n",
      "D:\\anaconda\\envs\\project\\lib\\site-packages\\sklearn\\utils\\validation.py:1183: DataConversionWarning: A column-vector y was passed when a 1d array was expected. Please change the shape of y to (n_samples, ), for example using ravel().\n",
      "  y = column_or_1d(y, warn=True)\n",
      "D:\\anaconda\\envs\\project\\lib\\site-packages\\sklearn\\utils\\validation.py:1183: DataConversionWarning: A column-vector y was passed when a 1d array was expected. Please change the shape of y to (n_samples, ), for example using ravel().\n",
      "  y = column_or_1d(y, warn=True)\n"
     ]
    },
    {
     "name": "stdout",
     "output_type": "stream",
     "text": [
      "Without feature Selection : \n",
      "Model accuracy score with default hyperparameters: 60.0000\n",
      "With feature Selection : \n",
      "Model accuracy score with default hyperparameters: 50.0000\n",
      "Without feature Selection : \n",
      "Model accuracy score with Decision Tree 20.0\n",
      "With feature Selection : \n",
      "Model accuracy score with Decision Tree 50.0\n",
      " \n",
      "Boosting the Decision Tree  \n"
     ]
    },
    {
     "name": "stderr",
     "output_type": "stream",
     "text": [
      "D:\\anaconda\\envs\\project\\lib\\site-packages\\sklearn\\utils\\validation.py:1183: DataConversionWarning: A column-vector y was passed when a 1d array was expected. Please change the shape of y to (n_samples, ), for example using ravel().\n",
      "  y = column_or_1d(y, warn=True)\n",
      "D:\\anaconda\\envs\\project\\lib\\site-packages\\sklearn\\utils\\validation.py:1183: DataConversionWarning: A column-vector y was passed when a 1d array was expected. Please change the shape of y to (n_samples, ), for example using ravel().\n",
      "  y = column_or_1d(y, warn=True)\n",
      "D:\\anaconda\\envs\\project\\lib\\site-packages\\sklearn\\preprocessing\\_label.py:97: DataConversionWarning: A column-vector y was passed when a 1d array was expected. Please change the shape of y to (n_samples, ), for example using ravel().\n",
      "  y = column_or_1d(y, warn=True)\n",
      "D:\\anaconda\\envs\\project\\lib\\site-packages\\sklearn\\preprocessing\\_label.py:132: DataConversionWarning: A column-vector y was passed when a 1d array was expected. Please change the shape of y to (n_samples, ), for example using ravel().\n",
      "  y = column_or_1d(y, dtype=self.classes_.dtype, warn=True)\n"
     ]
    },
    {
     "name": "stdout",
     "output_type": "stream",
     "text": [
      "accuracy= 93.33333333333333\n"
     ]
    }
   ],
   "source": [
    "def select_features(X_train, y_train, X_test):\n",
    "\tfs = SelectKBest(score_func=mutual_info_classif,k=k1)\n",
    "\tfs.fit(X_train, y_train)\n",
    "\tX_train_fs = fs.transform(X_train)\n",
    "\tX_test_fs = fs.transform(X_test)\n",
    "\treturn X_train_fs, X_test_fs, fs\n",
    "\n",
    "def select_features2(X_train, y_train, X_test):\n",
    "\tfs = SelectKBest(score_func=mutual_info_classif,k=k3)\n",
    "\tfs.fit(X_train, y_train)\n",
    "\tX_train_fs = fs.transform(X_train)\n",
    "\tX_test_fs = fs.transform(X_test)\n",
    "\treturn X_train_fs, X_test_fs, fs\n",
    "\n",
    "def select_features3(X_train, y_train, X_test):\n",
    "\tfs = SelectKBest(score_func=mutual_info_classif,k=k5)\n",
    "\tfs.fit(X_train, y_train)\n",
    "\tX_train_fs = fs.transform(X_train)\n",
    "\tX_test_fs = fs.transform(X_test)\n",
    "\treturn X_train_fs, X_test_fs, fs\n",
    "\n",
    "\n",
    "X_train1, X_test1, fs = select_features(X_train, y_train, X_test)\n",
    "X_train3, X_test3, fs = select_features2(X_train2, y_train2, X_test2)\n",
    "X_train5, X_test5, fs = select_features3(X_train6, y_train6, X_test6)\n",
    "\n",
    " \n",
    "#---------------SVM------------------#\n",
    "#\n",
    "print(\"Without feature Selection : \")\n",
    "acc = svm(X_train6,y_train6,X_test6,y_test6)\n",
    "\n",
    "print(\"With feature Selection : \")\n",
    "acc1 = svm(X_train5,y_train6,X_test5,y_test6)\n",
    "\n",
    "#-------------Decision Tree-----------------#\n",
    "print(\"Without feature Selection : \")\n",
    "acc1,clf1 = Dec_tree(X_train1,y_train,X_test1,y_test)\n",
    "\n",
    "\n",
    "print(\"With feature Selection : \")\n",
    "acc,clf = Dec_tree(X_train,y_train,X_test,y_test)\n",
    "\n",
    "print(' ')\n",
    "\n",
    "#-------------XGBoost-----------------#\n",
    "print(\"Boosting the Decision Tree  \")\n",
    "acc = xgboost(X_train2,y_train2,X_test2,y_test2,clf)\n"
   ]
  },
  {
   "cell_type": "markdown",
   "metadata": {
    "id": "udZl3BhOubrS"
   },
   "source": [
    "Accuracies vs Techniques"
   ]
  },
  {
   "cell_type": "code",
   "execution_count": 10,
   "metadata": {
    "colab": {
     "base_uri": "https://localhost:8080/",
     "height": 334
    },
    "id": "WKBN8OCcuUKB",
    "outputId": "06bd190c-9b55-4726-b1e6-1deab9ea9bc0"
   },
   "outputs": [
    {
     "data": {
      "image/png": "[encoded data removed]",
      "text/plain": [
       "<Figure size 1000x500 with 1 Axes>"
      ]
     },
     "metadata": {},
     "output_type": "display_data"
    }
   ],
   "source": [
    "import matplotlib.pyplot as plt\n",
    "#fig = plt.figure()\n",
    "fig = plt.figure(figsize =(10, 5)) \n",
    "#ax = fig.add_axes([0,0,1,1])\n",
    "Name = ['Decision Tree(with feature selection)','Decision Tree(without feature selection)', 'XGBoost', 'SVM(with feature selction)','SVM(without feature selction)']\n",
    "accuracies = [50,40,93.333,70,60]\n",
    "plt.bar(Name,accuracies)\n",
    "plt.ylabel('Accuracies')\n",
    "plt.xlabel('Techniques')\n",
    "plt.show()"
   ]
  }
 ],
 "metadata": {
  "colab": {
   "collapsed_sections": [],
   "include_colab_link": true,
   "name": "FinalPRMLcode.ipynb",
   "provenance": []
  },
  "kernelspec": {
   "display_name": "Python 3 (ipykernel)",
   "language": "python",
   "name": "python3"
  },
  "language_info": {
   "codemirror_mode": {
    "name": "ipython",
    "version": 3
   },
   "file_extension": ".py",
   "mimetype": "text/x-python",
   "name": "python",
   "nbconvert_exporter": "python",
   "pygments_lexer": "ipython3",
   "version": "3.8.19"
  }
 },
 "nbformat": 4,
 "nbformat_minor": 4
}
